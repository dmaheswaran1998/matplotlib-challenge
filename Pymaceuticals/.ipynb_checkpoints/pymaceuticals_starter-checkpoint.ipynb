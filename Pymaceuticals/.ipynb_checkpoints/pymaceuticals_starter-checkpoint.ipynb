{
 "cells": [
  {
   "cell_type": "markdown",
   "metadata": {},
   "source": [
    "## Observations and Insights "
   ]
  },
  {
   "cell_type": "markdown",
   "metadata": {},
   "source": []
  },
  {
   "cell_type": "code",
   "execution_count": 45,
   "metadata": {},
   "outputs": [],
   "source": [
    "# Dependencies and Setup\n",
    "import matplotlib.pyplot as plt\n",
    "import pandas as pd\n",
    "import scipy.stats as st\n",
    "import numpy as np\n",
    "from scipy.stats import linregress\n",
    "\n",
    "\n",
    "\n",
    "\n",
    "# Study data files\n",
    "mouse_metadata_path = \"data/Mouse_metadata.csv\"\n",
    "study_results_path = \"data/Study_results.csv\"\n",
    "\n",
    "# Read the mouse data and the study results\n",
    "mouse_metadata = pd.read_csv(mouse_metadata_path)\n",
    "study_results = pd.read_csv(study_results_path)\n",
    "\n",
    "# Combine the data into a single dataset\n",
    "mouse_merge=pd.merge(mouse_metadata, study_results, on=\"Mouse ID\")\n",
    "\n",
    "# Display the data table for preview\n"
   ]
  },
  {
   "cell_type": "code",
   "execution_count": 46,
   "metadata": {},
   "outputs": [
    {
     "data": {
      "text/plain": [
       "249"
      ]
     },
     "execution_count": 46,
     "metadata": {},
     "output_type": "execute_result"
    }
   ],
   "source": [
    "# Checking the number of mice.\n",
    "mouse_merge[\"Mouse ID\"].nunique()"
   ]
  },
  {
   "cell_type": "code",
   "execution_count": 47,
   "metadata": {},
   "outputs": [
    {
     "data": {
      "text/html": [
       "<div>\n",
       "<style scoped>\n",
       "    .dataframe tbody tr th:only-of-type {\n",
       "        vertical-align: middle;\n",
       "    }\n",
       "\n",
       "    .dataframe tbody tr th {\n",
       "        vertical-align: top;\n",
       "    }\n",
       "\n",
       "    .dataframe thead th {\n",
       "        text-align: right;\n",
       "    }\n",
       "</style>\n",
       "<table border=\"1\" class=\"dataframe\">\n",
       "  <thead>\n",
       "    <tr style=\"text-align: right;\">\n",
       "      <th></th>\n",
       "      <th>Mouse ID</th>\n",
       "      <th>Drug Regimen</th>\n",
       "      <th>Sex</th>\n",
       "      <th>Age_months</th>\n",
       "      <th>Weight (g)</th>\n",
       "      <th>Timepoint</th>\n",
       "      <th>Tumor Volume (mm3)</th>\n",
       "      <th>Metastatic Sites</th>\n",
       "    </tr>\n",
       "  </thead>\n",
       "  <tbody>\n",
       "    <tr>\n",
       "      <th>909</th>\n",
       "      <td>g989</td>\n",
       "      <td>Propriva</td>\n",
       "      <td>Female</td>\n",
       "      <td>21</td>\n",
       "      <td>26</td>\n",
       "      <td>0</td>\n",
       "      <td>45.000000</td>\n",
       "      <td>0</td>\n",
       "    </tr>\n",
       "    <tr>\n",
       "      <th>911</th>\n",
       "      <td>g989</td>\n",
       "      <td>Propriva</td>\n",
       "      <td>Female</td>\n",
       "      <td>21</td>\n",
       "      <td>26</td>\n",
       "      <td>5</td>\n",
       "      <td>47.570392</td>\n",
       "      <td>0</td>\n",
       "    </tr>\n",
       "    <tr>\n",
       "      <th>913</th>\n",
       "      <td>g989</td>\n",
       "      <td>Propriva</td>\n",
       "      <td>Female</td>\n",
       "      <td>21</td>\n",
       "      <td>26</td>\n",
       "      <td>10</td>\n",
       "      <td>49.880528</td>\n",
       "      <td>0</td>\n",
       "    </tr>\n",
       "    <tr>\n",
       "      <th>915</th>\n",
       "      <td>g989</td>\n",
       "      <td>Propriva</td>\n",
       "      <td>Female</td>\n",
       "      <td>21</td>\n",
       "      <td>26</td>\n",
       "      <td>15</td>\n",
       "      <td>53.442020</td>\n",
       "      <td>0</td>\n",
       "    </tr>\n",
       "    <tr>\n",
       "      <th>917</th>\n",
       "      <td>g989</td>\n",
       "      <td>Propriva</td>\n",
       "      <td>Female</td>\n",
       "      <td>21</td>\n",
       "      <td>26</td>\n",
       "      <td>20</td>\n",
       "      <td>54.657650</td>\n",
       "      <td>1</td>\n",
       "    </tr>\n",
       "  </tbody>\n",
       "</table>\n",
       "</div>"
      ],
      "text/plain": [
       "    Mouse ID Drug Regimen     Sex  Age_months  Weight (g)  Timepoint  \\\n",
       "909     g989     Propriva  Female          21          26          0   \n",
       "911     g989     Propriva  Female          21          26          5   \n",
       "913     g989     Propriva  Female          21          26         10   \n",
       "915     g989     Propriva  Female          21          26         15   \n",
       "917     g989     Propriva  Female          21          26         20   \n",
       "\n",
       "     Tumor Volume (mm3)  Metastatic Sites  \n",
       "909           45.000000                 0  \n",
       "911           47.570392                 0  \n",
       "913           49.880528                 0  \n",
       "915           53.442020                 0  \n",
       "917           54.657650                 1  "
      ]
     },
     "execution_count": 47,
     "metadata": {},
     "output_type": "execute_result"
    }
   ],
   "source": [
    "# Getting the duplicate mice by ID number that shows up for Mouse ID and Timepoint. \n",
    "#These are all the Mouse that have duplicate row and timepoint \n",
    "duplicate_mice= mouse_merge[mouse_merge.duplicated(['Mouse ID', 'Timepoint'])]\n",
    "duplicate_mice\n"
   ]
  },
  {
   "cell_type": "code",
   "execution_count": 48,
   "metadata": {},
   "outputs": [],
   "source": [
    "# Optional: Get all the data for the duplicate mouse ID. \n",
    "mouse_2=mouse_merge.loc[(mouse_merge[\"Mouse ID\"]==\"g989\"), :]\n"
   ]
  },
  {
   "cell_type": "code",
   "execution_count": 49,
   "metadata": {},
   "outputs": [],
   "source": [
    "# Create a clean DataFrame by dropping the duplicate mouse by its ID.\n",
    "mouse_clean=mouse_merge.loc[(mouse_merge[\"Mouse ID\"]!=\"g989\"), :]\n"
   ]
  },
  {
   "cell_type": "code",
   "execution_count": 50,
   "metadata": {},
   "outputs": [
    {
     "data": {
      "text/plain": [
       "248"
      ]
     },
     "execution_count": 50,
     "metadata": {},
     "output_type": "execute_result"
    }
   ],
   "source": [
    "# Checking the number of mice in the clean DataFrame.\n",
    "mouse_clean[\"Mouse ID\"].nunique()"
   ]
  },
  {
   "cell_type": "markdown",
   "metadata": {},
   "source": [
    "## Summary Statistics"
   ]
  },
  {
   "cell_type": "code",
   "execution_count": 51,
   "metadata": {},
   "outputs": [
    {
     "data": {
      "text/html": [
       "<div>\n",
       "<style scoped>\n",
       "    .dataframe tbody tr th:only-of-type {\n",
       "        vertical-align: middle;\n",
       "    }\n",
       "\n",
       "    .dataframe tbody tr th {\n",
       "        vertical-align: top;\n",
       "    }\n",
       "\n",
       "    .dataframe thead th {\n",
       "        text-align: right;\n",
       "    }\n",
       "</style>\n",
       "<table border=\"1\" class=\"dataframe\">\n",
       "  <thead>\n",
       "    <tr style=\"text-align: right;\">\n",
       "      <th></th>\n",
       "      <th>Mean</th>\n",
       "      <th>Median</th>\n",
       "      <th>Variance</th>\n",
       "      <th>Standard_Deviation</th>\n",
       "      <th>SEM</th>\n",
       "    </tr>\n",
       "    <tr>\n",
       "      <th>Drug Regimen</th>\n",
       "      <th></th>\n",
       "      <th></th>\n",
       "      <th></th>\n",
       "      <th></th>\n",
       "      <th></th>\n",
       "    </tr>\n",
       "  </thead>\n",
       "  <tbody>\n",
       "    <tr>\n",
       "      <th>Capomulin</th>\n",
       "      <td>40.675741</td>\n",
       "      <td>41.557809</td>\n",
       "      <td>24.947764</td>\n",
       "      <td>4.994774</td>\n",
       "      <td>0.329346</td>\n",
       "    </tr>\n",
       "    <tr>\n",
       "      <th>Ceftamin</th>\n",
       "      <td>52.591172</td>\n",
       "      <td>51.776157</td>\n",
       "      <td>39.290177</td>\n",
       "      <td>6.268188</td>\n",
       "      <td>0.469821</td>\n",
       "    </tr>\n",
       "    <tr>\n",
       "      <th>Infubinol</th>\n",
       "      <td>52.884795</td>\n",
       "      <td>51.820584</td>\n",
       "      <td>43.128684</td>\n",
       "      <td>6.567243</td>\n",
       "      <td>0.492236</td>\n",
       "    </tr>\n",
       "    <tr>\n",
       "      <th>Ketapril</th>\n",
       "      <td>55.235638</td>\n",
       "      <td>53.698743</td>\n",
       "      <td>68.553577</td>\n",
       "      <td>8.279709</td>\n",
       "      <td>0.603860</td>\n",
       "    </tr>\n",
       "    <tr>\n",
       "      <th>Naftisol</th>\n",
       "      <td>54.331565</td>\n",
       "      <td>52.509285</td>\n",
       "      <td>66.173479</td>\n",
       "      <td>8.134708</td>\n",
       "      <td>0.596466</td>\n",
       "    </tr>\n",
       "    <tr>\n",
       "      <th>Placebo</th>\n",
       "      <td>54.033581</td>\n",
       "      <td>52.288934</td>\n",
       "      <td>61.168083</td>\n",
       "      <td>7.821003</td>\n",
       "      <td>0.581331</td>\n",
       "    </tr>\n",
       "    <tr>\n",
       "      <th>Propriva</th>\n",
       "      <td>52.320930</td>\n",
       "      <td>50.446266</td>\n",
       "      <td>43.852013</td>\n",
       "      <td>6.622085</td>\n",
       "      <td>0.544332</td>\n",
       "    </tr>\n",
       "    <tr>\n",
       "      <th>Ramicane</th>\n",
       "      <td>40.216745</td>\n",
       "      <td>40.673236</td>\n",
       "      <td>23.486704</td>\n",
       "      <td>4.846308</td>\n",
       "      <td>0.320955</td>\n",
       "    </tr>\n",
       "    <tr>\n",
       "      <th>Stelasyn</th>\n",
       "      <td>54.233149</td>\n",
       "      <td>52.431737</td>\n",
       "      <td>59.450562</td>\n",
       "      <td>7.710419</td>\n",
       "      <td>0.573111</td>\n",
       "    </tr>\n",
       "    <tr>\n",
       "      <th>Zoniferol</th>\n",
       "      <td>53.236507</td>\n",
       "      <td>51.818479</td>\n",
       "      <td>48.533355</td>\n",
       "      <td>6.966589</td>\n",
       "      <td>0.516398</td>\n",
       "    </tr>\n",
       "  </tbody>\n",
       "</table>\n",
       "</div>"
      ],
      "text/plain": [
       "                   Mean     Median   Variance  Standard_Deviation       SEM\n",
       "Drug Regimen                                                               \n",
       "Capomulin     40.675741  41.557809  24.947764            4.994774  0.329346\n",
       "Ceftamin      52.591172  51.776157  39.290177            6.268188  0.469821\n",
       "Infubinol     52.884795  51.820584  43.128684            6.567243  0.492236\n",
       "Ketapril      55.235638  53.698743  68.553577            8.279709  0.603860\n",
       "Naftisol      54.331565  52.509285  66.173479            8.134708  0.596466\n",
       "Placebo       54.033581  52.288934  61.168083            7.821003  0.581331\n",
       "Propriva      52.320930  50.446266  43.852013            6.622085  0.544332\n",
       "Ramicane      40.216745  40.673236  23.486704            4.846308  0.320955\n",
       "Stelasyn      54.233149  52.431737  59.450562            7.710419  0.573111\n",
       "Zoniferol     53.236507  51.818479  48.533355            6.966589  0.516398"
      ]
     },
     "execution_count": 51,
     "metadata": {},
     "output_type": "execute_result"
    }
   ],
   "source": [
    "# Generate a summary statistics table of mean, median, variance, standard deviation, and SEM of the tumor volume for each regimen\n",
    "\n",
    "Regimen_groupby=mouse_clean.groupby([\"Drug Regimen\"])\n",
    "mean=Regimen_groupby[\"Tumor Volume (mm3)\"].mean()\n",
    "median=Regimen_groupby[\"Tumor Volume (mm3)\"].median()\n",
    "variance=Regimen_groupby[\"Tumor Volume (mm3)\"].var()\n",
    "stdev=Regimen_groupby[\"Tumor Volume (mm3)\"].std()\n",
    "sem=Regimen_groupby[\"Tumor Volume (mm3)\"].sem()\n",
    "\n",
    "tumor_summary=pd.DataFrame({\"Mean\": mean, \"Median\" : median, \"Variance\": variance, \"Standard_Deviation\": stdev, \"SEM\": sem})\n",
    "\n",
    "tumor_summary\n",
    "# This method is the most straighforward, creating multiple series and putting them all together at the end.\n",
    "\n"
   ]
  },
  {
   "cell_type": "code",
   "execution_count": 52,
   "metadata": {},
   "outputs": [
    {
     "name": "stderr",
     "output_type": "stream",
     "text": [
      "/Users/dhanyamaheswaran/opt/anaconda3/lib/python3.7/site-packages/numpy/core/_methods.py:217: RuntimeWarning: Degrees of freedom <= 0 for slice\n",
      "  keepdims=keepdims)\n",
      "/Users/dhanyamaheswaran/opt/anaconda3/lib/python3.7/site-packages/numpy/core/_methods.py:186: RuntimeWarning: invalid value encountered in true_divide\n",
      "  arrmean, rcount, out=arrmean, casting='unsafe', subok=False)\n",
      "/Users/dhanyamaheswaran/opt/anaconda3/lib/python3.7/site-packages/numpy/core/_methods.py:209: RuntimeWarning: invalid value encountered in double_scalars\n",
      "  ret = ret.dtype.type(ret / rcount)\n"
     ]
    },
    {
     "data": {
      "text/html": [
       "<div>\n",
       "<style scoped>\n",
       "    .dataframe tbody tr th:only-of-type {\n",
       "        vertical-align: middle;\n",
       "    }\n",
       "\n",
       "    .dataframe tbody tr th {\n",
       "        vertical-align: top;\n",
       "    }\n",
       "\n",
       "    .dataframe thead th {\n",
       "        text-align: right;\n",
       "    }\n",
       "</style>\n",
       "<table border=\"1\" class=\"dataframe\">\n",
       "  <thead>\n",
       "    <tr style=\"text-align: right;\">\n",
       "      <th></th>\n",
       "      <th>Mean</th>\n",
       "      <th>Median</th>\n",
       "      <th>Variance</th>\n",
       "      <th>Standard_Deviation</th>\n",
       "      <th>SEM</th>\n",
       "    </tr>\n",
       "    <tr>\n",
       "      <th>Drug Regimen</th>\n",
       "      <th></th>\n",
       "      <th></th>\n",
       "      <th></th>\n",
       "      <th></th>\n",
       "      <th></th>\n",
       "    </tr>\n",
       "  </thead>\n",
       "  <tbody>\n",
       "    <tr>\n",
       "      <th>Capomulin</th>\n",
       "      <td>40.675741</td>\n",
       "      <td>41.557809</td>\n",
       "      <td>24.947764</td>\n",
       "      <td>4.994774</td>\n",
       "      <td>0.329346</td>\n",
       "    </tr>\n",
       "    <tr>\n",
       "      <th>Ceftamin</th>\n",
       "      <td>52.591172</td>\n",
       "      <td>51.776157</td>\n",
       "      <td>39.290177</td>\n",
       "      <td>6.268188</td>\n",
       "      <td>0.469821</td>\n",
       "    </tr>\n",
       "    <tr>\n",
       "      <th>Infubinol</th>\n",
       "      <td>52.884795</td>\n",
       "      <td>51.820584</td>\n",
       "      <td>43.128684</td>\n",
       "      <td>6.567243</td>\n",
       "      <td>0.492236</td>\n",
       "    </tr>\n",
       "    <tr>\n",
       "      <th>Ketapril</th>\n",
       "      <td>55.235638</td>\n",
       "      <td>53.698743</td>\n",
       "      <td>68.553577</td>\n",
       "      <td>8.279709</td>\n",
       "      <td>0.603860</td>\n",
       "    </tr>\n",
       "    <tr>\n",
       "      <th>Naftisol</th>\n",
       "      <td>54.331565</td>\n",
       "      <td>52.509285</td>\n",
       "      <td>66.173479</td>\n",
       "      <td>8.134708</td>\n",
       "      <td>0.596466</td>\n",
       "    </tr>\n",
       "    <tr>\n",
       "      <th>Placebo</th>\n",
       "      <td>54.033581</td>\n",
       "      <td>52.288934</td>\n",
       "      <td>61.168083</td>\n",
       "      <td>7.821003</td>\n",
       "      <td>0.581331</td>\n",
       "    </tr>\n",
       "    <tr>\n",
       "      <th>Propriva</th>\n",
       "      <td>52.320930</td>\n",
       "      <td>50.446266</td>\n",
       "      <td>43.852013</td>\n",
       "      <td>6.622085</td>\n",
       "      <td>0.544332</td>\n",
       "    </tr>\n",
       "    <tr>\n",
       "      <th>Ramicane</th>\n",
       "      <td>40.216745</td>\n",
       "      <td>40.673236</td>\n",
       "      <td>23.486704</td>\n",
       "      <td>4.846308</td>\n",
       "      <td>0.320955</td>\n",
       "    </tr>\n",
       "    <tr>\n",
       "      <th>Stelasyn</th>\n",
       "      <td>54.233149</td>\n",
       "      <td>52.431737</td>\n",
       "      <td>59.450562</td>\n",
       "      <td>7.710419</td>\n",
       "      <td>0.573111</td>\n",
       "    </tr>\n",
       "    <tr>\n",
       "      <th>Zoniferol</th>\n",
       "      <td>53.236507</td>\n",
       "      <td>51.818479</td>\n",
       "      <td>48.533355</td>\n",
       "      <td>6.966589</td>\n",
       "      <td>0.516398</td>\n",
       "    </tr>\n",
       "  </tbody>\n",
       "</table>\n",
       "</div>"
      ],
      "text/plain": [
       "                   Mean     Median   Variance  Standard_Deviation       SEM\n",
       "Drug Regimen                                                               \n",
       "Capomulin     40.675741  41.557809  24.947764            4.994774  0.329346\n",
       "Ceftamin      52.591172  51.776157  39.290177            6.268188  0.469821\n",
       "Infubinol     52.884795  51.820584  43.128684            6.567243  0.492236\n",
       "Ketapril      55.235638  53.698743  68.553577            8.279709  0.603860\n",
       "Naftisol      54.331565  52.509285  66.173479            8.134708  0.596466\n",
       "Placebo       54.033581  52.288934  61.168083            7.821003  0.581331\n",
       "Propriva      52.320930  50.446266  43.852013            6.622085  0.544332\n",
       "Ramicane      40.216745  40.673236  23.486704            4.846308  0.320955\n",
       "Stelasyn      54.233149  52.431737  59.450562            7.710419  0.573111\n",
       "Zoniferol     53.236507  51.818479  48.533355            6.966589  0.516398"
      ]
     },
     "execution_count": 52,
     "metadata": {},
     "output_type": "execute_result"
    }
   ],
   "source": [
    "# Generate a summary statistics table of mean, median, variance, standard deviation, and SEM of the tumor volume for each regimen\n",
    "tumor_2=Regimen_groupby.agg(Mean =('Tumor Volume (mm3)', np.mean), Median=('Tumor Volume (mm3)', np.median), Variance=('Tumor Volume (mm3)', np.var),\n",
    "                           Standard_Deviation =('Tumor Volume (mm3)', np.std), SEM=('Tumor Volume (mm3)', st.sem))\n",
    "tumor_2\n",
    "# This method produces everything in a single groupby function\n",
    "\n",
    "\n"
   ]
  },
  {
   "cell_type": "markdown",
   "metadata": {},
   "source": [
    "## Bar and Pie Charts"
   ]
  },
  {
   "cell_type": "code",
   "execution_count": 53,
   "metadata": {},
   "outputs": [
    {
     "data": {
      "text/plain": [
       "Text(0.5, 1.0, 'Bar Chart showing Drug Regimen and Number of Data Points')"
      ]
     },
     "execution_count": 53,
     "metadata": {},
     "output_type": "execute_result"
    },
    {
     "data": {
      "image/png": "[encoded data removed]",
      "text/plain": [
       "<Figure size 432x288 with 1 Axes>"
      ]
     },
     "metadata": {
      "needs_background": "light"
     },
     "output_type": "display_data"
    }
   ],
   "source": [
    "# Generate a bar plot showing the total number of mice for each treatment throughout the course of the study using pandas. \n",
    "count_mice=Regimen_groupby[\"Drug Regimen\"].count()\n",
    "count_chart = count_mice.plot(kind='barh')\n",
    "count_chart.set_xlabel(\"Number of Data Points\")\n",
    "count_chart.set_ylabel(\"Drug Regimen\")\n",
    "count_chart.set_title(\"Bar Chart showing Drug Regimen and Number of Data Points\")\n",
    "\n"
   ]
  },
  {
   "cell_type": "code",
   "execution_count": 54,
   "metadata": {},
   "outputs": [
    {
     "data": {
      "image/png": "[encoded data removed]",
      "text/plain": [
       "<Figure size 432x288 with 1 Axes>"
      ]
     },
     "metadata": {
      "needs_background": "light"
     },
     "output_type": "display_data"
    }
   ],
   "source": [
    "# Generate a bar plot showing the total number of mice for each treatment throughout the course of the study using pyplot.\n",
    "#converting count_mice to a dataframe \n",
    "count_2=pd.DataFrame({\"Number of Data Points\" : count_mice})\n",
    "count_2=count_2.reset_index()\n",
    "plt.barh(count_2[\"Drug Regimen\"], count_2[\"Number of Data Points\"],height=0.5)\n",
    "plt.xlabel('Number of Data Points')\n",
    "plt.ylabel('Drug Regimen')\n",
    "plt.title('Bar Chart showing Drug Regimen and Number of Data Points')\n",
    "\n",
    "plt.show()\n",
    "\n",
    " "
   ]
  },
  {
   "cell_type": "code",
   "execution_count": 103,
   "metadata": {},
   "outputs": [
    {
     "data": {
      "text/plain": [
       "Text(0.5, 1.0, 'Gender Distribution of Mice')"
      ]
     },
     "execution_count": 103,
     "metadata": {},
     "output_type": "execute_result"
    },
    {
     "data": {
      "image/png": "[encoded data removed]",
      "text/plain": [
       "<Figure size 432x288 with 1 Axes>"
      ]
     },
     "metadata": {},
     "output_type": "display_data"
    }
   ],
   "source": [
    "# Generate a pie plot showing the distribution of female versus male mice using pandas\n",
    "#using groupby function\n",
    "mouse_group=mouse_clean.groupby([\"Sex\"])\n",
    "gender=mouse_group[\"Mouse ID\"].nunique()\n",
    "pie_chart = gender.plot(kind='pie')\n",
    "pie_chart.set_ylabel(\"\")\n",
    "pie_chart.set_title(\"Gender Distribution of Mice\")\n",
    "\n",
    "#change the labels \n",
    "\n",
    "\n"
   ]
  },
  {
   "cell_type": "code",
   "execution_count": 56,
   "metadata": {},
   "outputs": [
    {
     "data": {
      "text/plain": [
       "Text(0.5, 1.0, 'Gender Distribution of Mice')"
      ]
     },
     "execution_count": 56,
     "metadata": {},
     "output_type": "execute_result"
    },
    {
     "data": {
      "image/png": "[encoded data removed]",
      "text/plain": [
       "<Figure size 432x288 with 1 Axes>"
      ]
     },
     "metadata": {},
     "output_type": "display_data"
    }
   ],
   "source": [
    "# Generate a pie plot showing the distribution of female versus male mice using pyplot\n",
    "gender1=[\"Female\", \"Male\"]\n",
    "plt.pie(gender,labels=gender1)\n",
    "plt.title(\"Gender Distribution of Mice\")\n",
    "\n",
    "#change labels "
   ]
  },
  {
   "cell_type": "markdown",
   "metadata": {},
   "source": [
    "## Quartiles, Outliers and Boxplots"
   ]
  },
  {
   "cell_type": "code",
   "execution_count": 57,
   "metadata": {},
   "outputs": [],
   "source": [
    "# Calculate the final tumor volume of each mouse across four of the treatment regimens:  \n",
    "# Capomulin, Ramicane, Infubinol, and Ceftamin\n",
    "\n",
    "\n",
    "# Used a slightly different approach, ordered by Mouse ID and Timepoint and then only kept the last timepoint\n",
    "mouse_1= mouse_clean.sort_values(['Mouse ID','Timepoint'])\n",
    "mouse_1=mouse_1.drop_duplicates(subset =\"Mouse ID\", keep = \"last\")\n",
    "mouse_1.head()\n",
    "#using loc to get the most promising drug treatments\n",
    "\n",
    "\n",
    "mouse_Capomulin=mouse_1.loc[(mouse_1[\"Drug Regimen\"] == \"Capomulin\"), :] \n",
    "mouse_Ramicane=mouse_1.loc[(mouse_1[\"Drug Regimen\"] == \"Ramicane\"), :] \n",
    "mouse_Infubinol=mouse_1.loc[(mouse_1[\"Drug Regimen\"] == \"Infubinol\"), :]\n",
    "mouse_Ceftamin=mouse_1.loc[(mouse_1[\"Drug Regimen\"] == \"Ceftamin\"), :]\n"
   ]
  },
  {
   "cell_type": "code",
   "execution_count": 70,
   "metadata": {},
   "outputs": [
    {
     "name": "stdout",
     "output_type": "stream",
     "text": [
      "The lower quartile of Tumor Volume (mm3) is: 32.37735684 for Capomulin Treatment\n",
      "The upper quartile of Tumor Volume (mm3) is: 40.1592203 for Capomulin Treatment\n",
      "The the median of Tumor Volume (mm3)is: 38.125164399999996 for Capomulin Treatment\n",
      "The interquartile range of Tumor Volume (mm3) is: 7.781863460000004 for Capomulin Treatment\n",
      "The outlier lower boundary is 20.70456164999999 and the outlier upper boundary for Capomulin Treatment is 51.83201549\n",
      "Values below 20.70456164999999 could be outliers for Capomulin Treatment.\n",
      "Values above 51.83201549 could be outliers for Capomulin Treatment.\n",
      "The minimum Tumor Volume of Capomulin treatment is 23.34359787 and the maximum Tumor Volume is 47.68596303. These are both within the upper and lower bound identified above, so there are no potential outliers for this treatmennt\n"
     ]
    }
   ],
   "source": [
    "# Generate a box plot of the final tumor volume of each mouse across four regimens of interest\n",
    "\n",
    "Capomulin = mouse_Capomulin['Tumor Volume (mm3)']\n",
    "quartiles = Capomulin.quantile([.25,.5,.75])\n",
    "lowerq = quartiles[0.25]\n",
    "upperq = quartiles[0.75]\n",
    "iqr = upperq-lowerq\n",
    "\n",
    "print(f\"The lower quartile of Tumor Volume (mm3) is: {lowerq} for Capomulin Treatment\")\n",
    "print(f\"The upper quartile of Tumor Volume (mm3) is: {upperq} for Capomulin Treatment\")\n",
    "print(f\"The the median of Tumor Volume (mm3)is: {quartiles[0.5]} for Capomulin Treatment\")\n",
    "print(f\"The interquartile range of Tumor Volume (mm3) is: {iqr} for Capomulin Treatment\")\n",
    "\n",
    "\n",
    "lower_bound = lowerq - (1.5*iqr)\n",
    "upper_bound = upperq + (1.5*iqr)\n",
    "\n",
    "print(f'The outlier lower boundary is {lower_bound} and the outlier upper boundary for Capomulin Treatment is {upper_bound}')\n",
    "\n",
    "\n",
    "print(f\"Values below {lower_bound} could be outliers for Capomulin Treatment.\")\n",
    "print(f\"Values above {upper_bound} could be outliers for Capomulin Treatment.\")\n",
    "\n",
    "min=mouse_Capomulin['Tumor Volume (mm3)'].min()\n",
    "max=mouse_Capomulin['Tumor Volume (mm3)'].max()\n",
    "\n",
    "print(f'The minimum Tumor Volume of Capomulin treatment is {min} and the maximum Tumor Volume is {max}. These are both within the upper and lower bound identified above, so there are no potential outliers for this treatment')\n"
   ]
  },
  {
   "cell_type": "code",
   "execution_count": 73,
   "metadata": {},
   "outputs": [
    {
     "name": "stdout",
     "output_type": "stream",
     "text": [
      "The lower quartile of Tumor Volume (mm3) is: 31.56046955 for Ramicane Treatment\n",
      "The upper quartile of Tumor Volume (mm3) is: 40.65900627 for Ramicane  Treatment\n",
      "The interquartile range of Tumor Volume (mm3) is: 9.098536719999998 for Ramicane Treatment\n",
      "The the median of Tumor Volume (mm3)is: 36.56165229 for Ramicane Treatment\n",
      " The outlier lower boundary is 17.912664470000003 and the outlier upper boundary for Ramicane Treatment is 54.30681135\n",
      "Values below 17.912664470000003 could be outliers for Ramicane Treatment.\n",
      "Values above 54.30681135 could be outliers for Ramicane Treatment.\n",
      "The minimum Tumor Volume of Ramicane treatment is 22.05012627 and the maximum Tumor Volume is 45.22086888. These are both within the upper and lower bound identified above, so there are no potential outliers for this treatment\n"
     ]
    }
   ],
   "source": [
    "Ramicane = mouse_Ramicane['Tumor Volume (mm3)']\n",
    "\n",
    "\n",
    "quartiles = Ramicane.quantile([.25,.5,.75])\n",
    "lowerq = quartiles[0.25]\n",
    "upperq = quartiles[0.75]\n",
    "iqr = upperq-lowerq\n",
    "\n",
    "\n",
    "print(f\"The lower quartile of Tumor Volume (mm3) is: {lowerq} for Ramicane Treatment\")\n",
    "print(f\"The upper quartile of Tumor Volume (mm3) is: {upperq} for Ramicane  Treatment\")\n",
    "print(f\"The interquartile range of Tumor Volume (mm3) is: {iqr} for Ramicane Treatment\")\n",
    "print(f\"The the median of Tumor Volume (mm3)is: {quartiles[0.5]} for Ramicane Treatment\")\n",
    "\n",
    "\n",
    "lower_bound = lowerq - (1.5*iqr)\n",
    "upper_bound = upperq + (1.5*iqr)\n",
    "\n",
    "print(f' The outlier lower boundary is {lower_bound} and the outlier upper boundary for Ramicane Treatment is {upper_bound}')\n",
    "\n",
    "print(f\"Values below {lower_bound} could be outliers for Ramicane Treatment.\")\n",
    "print(f\"Values above {upper_bound} could be outliers for Ramicane Treatment.\")\n",
    "\n",
    "\n",
    "min=mouse_Ramicane['Tumor Volume (mm3)'].min()\n",
    "max=mouse_Ramicane['Tumor Volume (mm3)'].max()\n",
    "\n",
    "print(f'The minimum Tumor Volume of Ramicane treatment is {min} and the maximum Tumor Volume is {max}. These are both within the upper and lower bound identified above, so there are no potential outliers for this treatment')\n"
   ]
  },
  {
   "cell_type": "code",
   "execution_count": 96,
   "metadata": {},
   "outputs": [
    {
     "name": "stdout",
     "output_type": "stream",
     "text": [
      "The lower quartile of Tumor Volume (mm3) is: 54.04860769 for Infubinol Treatment\n",
      "The upper quartile of Tumor Volume (mm3) is: 65.52574285 for Infubinol Treatment\n",
      "The interquartile range of Tumor Volume (mm3) is: 11.477135160000003 for Infubinol Treatment\n",
      "The the median of Tumor Volume (mm3)is: 60.16518046 for Infubinol Treatment\n",
      "The outlier lower boundary is 36.83290494999999 and the outlier upper boundary for Infubinol Treatment is 82.74144559000001\n",
      "Values below 36.83290494999999 could be outliers for Infubinol Treatment.\n",
      "Values above 82.74144559000001 could be outliers for Infubinol Treatment.\n",
      "The minimum Tumor Volume of Infubinol treatment is 36.321345799999996 and the maximum Tumor Volume is 72.2267309. While there are no potential upper outliers, the minimum is lower than the lower bound, and thus there is a potential outlier of 36.321345799999996 \n",
      "From sorting the values the next highest Tumor Volume for the Infubinol treatment is 45.699, which is within the lower bound and thus thers is only one potential outlier of 36.321345799999996\n"
     ]
    }
   ],
   "source": [
    "Infubinol = mouse_Infubinol['Tumor Volume (mm3)']\n",
    "\n",
    "\n",
    "quartiles = Infubinol.quantile([.25,.5,.75])\n",
    "lowerq = quartiles[0.25]\n",
    "upperq = quartiles[0.75]\n",
    "iqr = upperq-lowerq\n",
    "\n",
    "print(f\"The lower quartile of Tumor Volume (mm3) is: {lowerq} for Infubinol Treatment\")\n",
    "print(f\"The upper quartile of Tumor Volume (mm3) is: {upperq} for Infubinol Treatment\")\n",
    "print(f\"The interquartile range of Tumor Volume (mm3) is: {iqr} for Infubinol Treatment\")\n",
    "print(f\"The the median of Tumor Volume (mm3)is: {quartiles[0.5]} for Infubinol Treatment\")\n",
    "\n",
    "\n",
    "lower_bound = lowerq - (1.5*iqr)\n",
    "upper_bound = upperq + (1.5*iqr)\n",
    "\n",
    "print(f'The outlier lower boundary is {lower_bound} and the outlier upper boundary for Infubinol Treatment is {upper_bound}')\n",
    "\n",
    "\n",
    "print(f\"Values below {lower_bound} could be outliers for Infubinol Treatment.\")\n",
    "print(f\"Values above {upper_bound} could be outliers for Infubinol Treatment.\")\n",
    "\n",
    "\n",
    "min=mouse_Infubinol['Tumor Volume (mm3)'].min()\n",
    "max=mouse_Infubinol['Tumor Volume (mm3)'].max()\n",
    "\n",
    "\n",
    "print(f'The minimum Tumor Volume of Infubinol treatment is {min} and the maximum Tumor Volume is {max}. While there are no potential upper outliers, the minimum is lower than the lower bound, and thus there is a potential outlier of {min} ')\n",
    "\n",
    "#sorting values to see if there are any other potential outliers \n",
    "mouse_Infubinol2 = mouse_Infubinol.sort_values(\n",
    "    \"Tumor Volume (mm3)\")\n",
    "\n",
    "mouse_Infubinol2.head()\n",
    "\n",
    "print(f'From sorting the values the next highest Tumor Volume for the Infubinol treatment is 45.699, which is within the lower bound and thus thers is only one potential outlier of {min}')\n",
    "\n"
   ]
  },
  {
   "cell_type": "code",
   "execution_count": 104,
   "metadata": {},
   "outputs": [
    {
     "name": "stdout",
     "output_type": "stream",
     "text": [
      "The lower quartile of Tumor Volume (mm3) is: 48.72207785 for Ceftamin Treatment\n",
      "The upper quartile of Tumor Volume (mm3) is: 64.29983003 for Ceftamin Treatment\n",
      "The interquartile range of Tumor Volume (mm3) is: 15.577752179999997 for Ceftamin Treatment\n",
      "The the median of Tumor Volume (mm3)is: 59.85195552 for Ceftamin Treatment\n",
      "The outlier lower boundary is 25.355449580000002 and the outlier upper boundary for Ceftamin Treatment is 87.66645829999999 and\n",
      "Values below 25.355449580000002 could be outliers for Ceftamin Treatment.\n",
      "Values above 87.66645829999999 could be outliers for Ceftamin Treatment.\n",
      "The minimum Tumor Volume of Ceftamin treatment is 45.0 and the maximum Tumor Volume is 68.92318457. These are both within the upper and lower bound identified above, so there are no potential outliers for this treatment\n"
     ]
    }
   ],
   "source": [
    "Ceftamin = mouse_Ceftamin['Tumor Volume (mm3)']\n",
    "\n",
    "\n",
    "quartiles = Ceftamin.quantile([.25,.5,.75])\n",
    "lowerq = quartiles[0.25]\n",
    "upperq = quartiles[0.75]\n",
    "iqr = upperq-lowerq\n",
    "\n",
    "print(f\"The lower quartile of Tumor Volume (mm3) is: {lowerq} for Ceftamin Treatment\")\n",
    "print(f\"The upper quartile of Tumor Volume (mm3) is: {upperq} for Ceftamin Treatment\")\n",
    "print(f\"The interquartile range of Tumor Volume (mm3) is: {iqr} for Ceftamin Treatment\")\n",
    "print(f\"The the median of Tumor Volume (mm3)is: {quartiles[0.5]} for Ceftamin Treatment\")\n",
    "\n",
    "\n",
    "lower_bound = lowerq - (1.5*iqr)\n",
    "upper_bound = upperq + (1.5*iqr)\n",
    "\n",
    "\n",
    "print(f'The outlier lower boundary is {lower_bound} and the outlier upper boundary for Ceftamin Treatment is {upper_bound} and')\n",
    "\n",
    "\n",
    "print(f\"Values below {lower_bound} could be outliers for Ceftamin Treatment.\")\n",
    "print(f\"Values above {upper_bound} could be outliers for Ceftamin Treatment.\")\n",
    "\n",
    "min=mouse_Ceftamin['Tumor Volume (mm3)'].min()\n",
    "max=mouse_Ceftamin['Tumor Volume (mm3)'].max()\n",
    "\n",
    "\n",
    "print(f'The minimum Tumor Volume of Ceftamin treatment is {min} and the maximum Tumor Volume is {max}. These are both within the upper and lower bound identified above, so there are no potential outliers for this treatment')\n"
   ]
  },
  {
   "cell_type": "code",
   "execution_count": 100,
   "metadata": {},
   "outputs": [
    {
     "data": {
      "text/plain": [
       "{'whiskers': [<matplotlib.lines.Line2D at 0x1a25f5ecd0>,\n",
       "  <matplotlib.lines.Line2D at 0x1a25f5e610>,\n",
       "  <matplotlib.lines.Line2D at 0x1a2601e590>,\n",
       "  <matplotlib.lines.Line2D at 0x1a25f6cb90>,\n",
       "  <matplotlib.lines.Line2D at 0x1a2602e8d0>,\n",
       "  <matplotlib.lines.Line2D at 0x1a2602edd0>,\n",
       "  <matplotlib.lines.Line2D at 0x1a2603fcd0>,\n",
       "  <matplotlib.lines.Line2D at 0x1a26036e10>],\n",
       " 'caps': [<matplotlib.lines.Line2D at 0x1a25f5e210>,\n",
       "  <matplotlib.lines.Line2D at 0x1a25f563d0>,\n",
       "  <matplotlib.lines.Line2D at 0x1a2601ef50>,\n",
       "  <matplotlib.lines.Line2D at 0x1a26026490>,\n",
       "  <matplotlib.lines.Line2D at 0x1a2602ee90>,\n",
       "  <matplotlib.lines.Line2D at 0x1a26036850>,\n",
       "  <matplotlib.lines.Line2D at 0x1a26048710>,\n",
       "  <matplotlib.lines.Line2D at 0x1a26048c10>],\n",
       " 'boxes': [<matplotlib.lines.Line2D at 0x1a25f5ec90>,\n",
       "  <matplotlib.lines.Line2D at 0x1a25f62c10>,\n",
       "  <matplotlib.lines.Line2D at 0x1a25f6c5d0>,\n",
       "  <matplotlib.lines.Line2D at 0x1a2603f7d0>],\n",
       " 'medians': [<matplotlib.lines.Line2D at 0x1a25f6c610>,\n",
       "  <matplotlib.lines.Line2D at 0x1a26026990>,\n",
       "  <matplotlib.lines.Line2D at 0x1a26036910>,\n",
       "  <matplotlib.lines.Line2D at 0x1a2603fd50>],\n",
       " 'fliers': [<matplotlib.lines.Line2D at 0x1a25f6cb10>,\n",
       "  <matplotlib.lines.Line2D at 0x1a26026e90>,\n",
       "  <matplotlib.lines.Line2D at 0x1a26036d90>,\n",
       "  <matplotlib.lines.Line2D at 0x1a26050650>],\n",
       " 'means': []}"
      ]
     },
     "execution_count": 100,
     "metadata": {},
     "output_type": "execute_result"
    },
    {
     "data": {
      "image/png": "[encoded data removed]",
      "text/plain": [
       "<Figure size 432x288 with 1 Axes>"
      ]
     },
     "metadata": {
      "needs_background": "light"
     },
     "output_type": "display_data"
    }
   ],
   "source": [
    "#change the colour of the outliers \n",
    "green_circle = dict(markerfacecolor='g')\n",
    "Drug_regimen=[]\n",
    "\n",
    "Drug_regimen=[Capomulin, Ramicane, Infubinol, Ceftamin]\n",
    "fig7, ax7 = plt.subplots()\n",
    "ax7.set_title('Boxplot showing Tumor Volume (mm3) for each Drug Regimen')\n",
    "ax7.set_xticklabels(['Capomulin', 'Ramicane', 'Infubinol', 'Ceftamin'])\n",
    "plt.xlabel('Drug Regimen')\n",
    "plt.ylabel('Average Tumor Volume (mm3)')\n",
    "ax7.boxplot(Drug_regimen, flierprops=green_circle,)\n"
   ]
  },
  {
   "cell_type": "markdown",
   "metadata": {},
   "source": [
    "## Line and Scatter Plots"
   ]
  },
  {
   "cell_type": "code",
   "execution_count": 92,
   "metadata": {},
   "outputs": [
    {
     "data": {
      "image/png": "[encoded data removed]",
      "text/plain": [
       "<Figure size 432x288 with 1 Axes>"
      ]
     },
     "metadata": {
      "needs_background": "light"
     },
     "output_type": "display_data"
    }
   ],
   "source": [
    "# Generate a line plot of time point versus tumor volume for a mouse treated with Capomulin\n",
    "\n",
    "#Randomly selecting a mouse treated with Capomulin\n",
    "#first getting all mice that have Capomulin from cleaned dataset \n",
    "Capomulin_all=mouse_clean.loc[(mouse_clean[\"Drug Regimen\"]==\"Capomulin\"), :]\n",
    "\n",
    "#picked mouse x401 that has been treated with Capomulin\n",
    "#label y axis\n",
    "x401=mouse_clean.loc[(mouse_clean[\"Mouse ID\"]==\"x401\"), [\"Timepoint\", \"Tumor Volume (mm3)\"]]\n",
    "\n",
    "x_values = x401['Timepoint']\n",
    "y_values = x401['Tumor Volume (mm3)']\n",
    "tumor_vol=plt.plot(x_values,y_values,color=\"blue\", label=\"Average Tumor Volume\")\n",
    "plt.xlabel('Timepoint')\n",
    "plt.ylabel('Average Tumor Volume (mm3)')\n",
    "plt.title('Timepoint vs Average Tumor Volume')\n",
    "plt.legend()\n",
    "plt.show()\n",
    "\n"
   ]
  },
  {
   "cell_type": "code",
   "execution_count": 93,
   "metadata": {},
   "outputs": [
    {
     "data": {
      "image/png": "[encoded data removed]",
      "text/plain": [
       "<Figure size 432x288 with 1 Axes>"
      ]
     },
     "metadata": {
      "needs_background": "light"
     },
     "output_type": "display_data"
    }
   ],
   "source": [
    "# Generate a scatter plot of mouse weight versus average tumor volume for the Capomulin regimen\n",
    "#average obtained by summing up total tumor volume and dividing by number of timepoints\n",
    "mouse_id_group=Capomulin_all.groupby([\"Mouse ID\"])\n",
    "tumor_vol=mouse_id_group[\"Tumor Volume (mm3)\"].sum()\n",
    "time=mouse_id_group[\"Timepoint\"].count()\n",
    "weight=mouse_id_group[\"Weight (g)\"].unique()\n",
    "average=tumor_vol/time\n",
    "\n",
    "average_weight=pd.DataFrame({\"Weight\":weight, \"Average Tumor Volume (mm3)\":average})\n",
    "average_weight['Weight'] = average_weight['Weight'].astype(int)\n",
    "\n",
    "x_values = average_weight['Weight']\n",
    "y_values = average_weight['Average Tumor Volume (mm3)']\n",
    "\n",
    "plt.scatter(x_values,y_values)\n",
    "plt.title('Weight vs Average Tumor Volume')\n",
    "plt.xlabel('Weight (g)')\n",
    "plt.ylabel('Average Tumor Volume (mm3)')\n",
    "plt.show()\n"
   ]
  },
  {
   "cell_type": "markdown",
   "metadata": {},
   "source": [
    "## Correlation and Regression"
   ]
  },
  {
   "cell_type": "code",
   "execution_count": 94,
   "metadata": {},
   "outputs": [
    {
     "name": "stdout",
     "output_type": "stream",
     "text": [
      "The equation of the line is Average Tumor Volume= 0.95Weight + 21.55\n",
      " The correlation coefficient for this equation is 0.8419363424694717\n"
     ]
    }
   ],
   "source": [
    "# Calculate the correlation coefficient and linear regression model \n",
    "# for mouse weight and average tumor volume for the Capomulin regimen\n",
    "(slope, intercept, rvalue, pvalue, stderr) = linregress(x_values, y_values)\n",
    "regress_values = x_values * slope + intercept\n",
    "line_eq = \"Average Tumor Volume= \" + str(round(slope,2)) + \"Weight + \" + str(round(intercept,2))\n",
    "print(f'The equation of the line is {line_eq}')\n",
    "correlation_coeff=y_values.corr(x_values)\n",
    "print(f' The correlation coefficient for this equation is {correlation_coeff}')"
   ]
  },
  {
   "cell_type": "code",
   "execution_count": 95,
   "metadata": {},
   "outputs": [
    {
     "data": {
      "image/png": "[encoded data removed]",
      "text/plain": [
       "<Figure size 432x288 with 1 Axes>"
      ]
     },
     "metadata": {
      "needs_background": "light"
     },
     "output_type": "display_data"
    }
   ],
   "source": [
    "\n",
    "plt.scatter(x_values,y_values)\n",
    "plt.plot(x_values,regress_values, \"r-\",label=line_eq,)\n",
    "plt.xlabel('Weight (g)')\n",
    "plt.ylabel('Average Tumor Volume (mm3)')\n",
    "plt.title('Weight vs Average Tumor Volume')\n",
    "plt.legend(fontsize=9)\n",
    "plt.show()"
   ]
  },
  {
   "cell_type": "markdown",
   "metadata": {},
   "source": [
    "3 insights about the data: \n",
    "\n",
    "From the four boxplots it is evident that at the conclusion of the study (the last Timepoint measured), mice who were treated with either Capomulin or Ramicane seemed to have the lowest Tumor Volume and median tumor volume as compared to mice who were treated with Ifubinol and Ceptamine. Furthermore, the boxplots also show the InterQuartile Range (IQR) which assesses the range of the middle 50% of the data. This is a good measure of spread as unlike the range it is not affected by extreme values. The data above demonstrates that the Capomulin treatment has the lowest interquartile range of only (7.8). In other words, the difference between the range of tumor volume experienced by the middle 50% of mice who were treated with Capomulin was only 7.7. The Ramicane treatment similarly had a low IQR of 9.09, while the Infubinol and Ceptamin treatment had higher IQRs of 11.47 and 15.58 respectively. This indicates that the Capomulin treatment and Ramicane treatment generally had more consistent results in regards to the final tumor volume experienced by mice as compared to the Infubinol and Ceptamin treatment. Furthermore, when assessing the Average Tumor Volume in comparison to weight it is evident that the Weight of the Mouse and the Average Tumor Volume seem to have a very high linear correlation. In other words, mouse that weight more have a higher average tumor volume. While this correlation does not necessarily imply causation, it is still important for researchers to consider that weight may have an effect on the Average Tumor Volume experienced by mice. Thus in further trials assessing the effectivness of drugs in reducing the Tumor Volume, researchers should randomise the weight of mice that are treated by each drug. \n",
    "\n"
   ]
  },
  {
   "cell_type": "code",
   "execution_count": null,
   "metadata": {},
   "outputs": [],
   "source": []
  },
  {
   "cell_type": "code",
   "execution_count": null,
   "metadata": {},
   "outputs": [],
   "source": []
  },
  {
   "cell_type": "code",
   "execution_count": null,
   "metadata": {},
   "outputs": [],
   "source": []
  }
 ],
 "metadata": {
  "anaconda-cloud": {},
  "kernelspec": {
   "display_name": "Python 3",
   "language": "python",
   "name": "python3"
  },
  "language_info": {
   "codemirror_mode": {
    "name": "ipython",
    "version": 3
   },
   "file_extension": ".py",
   "mimetype": "text/x-python",
   "name": "python",
   "nbconvert_exporter": "python",
   "pygments_lexer": "ipython3",
   "version": "3.7.6"
  }
 },
 "nbformat": 4,
 "nbformat_minor": 2
}
